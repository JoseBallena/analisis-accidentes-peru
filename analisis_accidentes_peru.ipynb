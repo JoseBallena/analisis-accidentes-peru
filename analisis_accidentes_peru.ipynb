{
 "cells": [
  {
   "cell_type": "markdown",
   "id": "81d4b0d8",
   "metadata": {},
   "source": [
    "# Análisis de Accidentes de Tránsito en Perú (2022–2023)\n",
    "Este proyecto realiza un análisis exploratorio de datos sobre accidentes de tránsito en algunas regiones del Perú, utilizando Python y pandas."
   ]
  },
  {
   "cell_type": "markdown",
   "id": "1704a513",
   "metadata": {},
   "source": [
    "## 1. Carga de datos"
   ]
  },
  {
   "cell_type": "code",
   "execution_count": null,
   "id": "1605f2af",
   "metadata": {},
   "outputs": [],
   "source": [
    "import pandas as pd\n",
    "\n",
    "data = {\n",
    "    'Año': [2022, 2022, 2022, 2023, 2023, 2023],\n",
    "    'Departamento': ['Lima', 'Arequipa', 'Cusco', 'Lima', 'Arequipa', 'Cusco'],\n",
    "    'Tipo_Accidente': ['Colisión', 'Atropello', 'Volcadura', 'Colisión', 'Atropello', 'Volcadura'],\n",
    "    'Heridos': [5, 2, 3, 6, 1, 4],\n",
    "    'Fallecidos': [1, 0, 0, 2, 1, 1]\n",
    "}\n",
    "\n",
    "df = pd.DataFrame(data)\n",
    "df"
   ]
  },
  {
   "cell_type": "markdown",
   "id": "5153ac1a",
   "metadata": {},
   "source": [
    "## 2. Estadísticas generales"
   ]
  },
  {
   "cell_type": "code",
   "execution_count": null,
   "id": "01450f3d",
   "metadata": {},
   "outputs": [],
   "source": [
    "df.describe()"
   ]
  },
  {
   "cell_type": "markdown",
   "id": "4c673ca3",
   "metadata": {},
   "source": [
    "## 3. Análisis por tipo de accidente"
   ]
  },
  {
   "cell_type": "code",
   "execution_count": null,
   "id": "fa8ce885",
   "metadata": {},
   "outputs": [],
   "source": [
    "df.groupby('Tipo_Accidente')[['Heridos', 'Fallecidos']].sum()"
   ]
  },
  {
   "cell_type": "markdown",
   "id": "3a031dd3",
   "metadata": {},
   "source": [
    "## 4. Visualización"
   ]
  },
  {
   "cell_type": "code",
   "execution_count": null,
   "id": "e5a4fc16",
   "metadata": {},
   "outputs": [],
   "source": [
    "import matplotlib.pyplot as plt\n",
    "\n",
    "df.groupby('Tipo_Accidente')[['Heridos', 'Fallecidos']].sum().plot(kind='bar', figsize=(8, 5))\n",
    "plt.title('Heridos y Fallecidos por Tipo de Accidente')\n",
    "plt.ylabel('Cantidad')\n",
    "plt.xticks(rotation=45)\n",
    "plt.grid(axis='y')\n",
    "plt.tight_layout()\n",
    "plt.show()"
   ]
  },
  {
   "cell_type": "markdown",
   "id": "be4939c1",
   "metadata": {},
   "source": [
    "## 5. Conclusiones\n",
    "- Las colisiones son los accidentes más frecuentes con mayor cantidad de heridos.\n",
    "- Atropellos, aunque menos frecuentes, tienen una tasa de fallecidos relativamente alta.\n",
    "- La región de Lima registra mayor número de víctimas.\n",
    "\n",
    "_Este análisis es un ejemplo básico. Puede escalarse con datos abiertos del INEI o el MTC._"
   ]
  }
 ],
 "metadata": {},
 "nbformat": 4,
 "nbformat_minor": 5
}